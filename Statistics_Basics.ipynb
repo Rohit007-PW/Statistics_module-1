{
 "cells": [
  {
   "cell_type": "markdown",
   "id": "48481121-8fb3-46be-8546-9a7983c6ef66",
   "metadata": {},
   "source": [
    "# Statistics Basics"
   ]
  },
  {
   "cell_type": "markdown",
   "id": "0a853c93-f329-4df7-adb7-ba36e54d08e3",
   "metadata": {},
   "source": [
    "### Q1--Explain the different types of data (qualitative and quantitative) and provide examples of each. Discuss nominal, ordinal, interval, and ratio scales."
   ]
  },
  {
   "cell_type": "markdown",
   "id": "4b7a299f-46fe-4da1-97c4-383641745b6e",
   "metadata": {},
   "source": [
    "1.\tQualitative Data  Describes non-numeric characteristics.\n",
    "\t•\tNominal: No order (e.g., Gender, Colors).\n",
    "\t•\tOrdinal: Ordered but no measurable difference (e.g., Ranks, Satisfaction levels).\n",
    "\n",
    "\n",
    "2\tQuantitative Data (Numerical): Represents numeric values.\n",
    "\t•\tInterval: Equal intervals, no true zero (e.g., Temperature, Dates).\n",
    "\t•\tRatio: Equal intervals, true zero (e.g., Weight, Age, Income)."
   ]
  },
  {
   "cell_type": "markdown",
   "id": "73106a40-5eca-4321-b2ec-b8c00dd72000",
   "metadata": {},
   "source": [
    "### Q2-- What are the measures of central tendency, and when should you use each? Discuss the mean, median, and mode with examples and situations where each is appropriate"
   ]
  },
  {
   "cell_type": "markdown",
   "id": "a7e0709c-240e-431a-a490-c7682bee6425",
   "metadata": {},
   "source": [
    "Central tendency measures identify a central or typical value for a dataset. The three main measures are mean, median, and mode. Each is appropriate in different situations depending on the data type and distribution.\n",
    "\n",
    " Mean (Average):\n",
    "\t•\tDefinition: The sum of all values divided by the total number of values.\t\n",
    "\t•\tExample: Test scores:  [70, 80, 90] \n",
    "\t•\tMean =  {70 + 80 + 90}/{3} = 80 .\n",
    "    situations like Calculating the average salary of employees in a company.\n",
    "\n",
    " Median (Middle Value):\n",
    "\t•\tDefinition: The middle value when data is arranged in ascending or descending order.\n",
    "\t•\tIf the number of values is odd: Median = middle value.\n",
    "\t•\tIf even: Median = average of the two middle values.\n",
    "\t•\tExample: Test scores:  [60, 70, 80, 90, 100] \n",
    "\t•\tMedian =  80 .\n",
    "     situations like Finding the middle income in a neighborhood where a few people earn extremely high salaries.\n",
    " Mode (Most Frequent Value):\n",
    "\t•\tDefinition: The value that appears most frequently in the dataset.\n",
    "\t•\tExample: Test scores:  [80, 90, 90, 100] \n",
    "\t•\tMode =  90 .\n",
    "    situations like Determining the most popular product size or color.\n",
    "    "
   ]
  },
  {
   "cell_type": "markdown",
   "id": "fe0fc85b-2b98-452c-881c-4b6a7e75b307",
   "metadata": {},
   "source": [
    "### Q3-- Explain the concept of dispersion. How do variance and standard deviation measure the spread of data"
   ]
  },
  {
   "cell_type": "markdown",
   "id": "92fe7e38-8d71-42ad-b570-9c1dd0244f9c",
   "metadata": {},
   "source": [
    "Dispersion refers to the extent to which a set of data points differ or spread out from their central value (like the mean). If data points are close to the central value, the dispersion is low, indicating consistency. If data points are spread out, the dispersion is high, indicating greater variability.\n",
    "\n",
    " --Variance measures the average squared deviation of each data point from the mean. It quantifies the spread of data in a dataset.\n",
    "\n",
    "--The standard deviation is the square root of the variance. It measures the average deviation of data points from the mean and is expressed in the same units as the original data, making it more interpretable than variance."
   ]
  },
  {
   "cell_type": "markdown",
   "id": "312f916b-a270-465f-bd9a-5f74f1f3a018",
   "metadata": {},
   "source": [
    "### Q4--What is a box plot, and what can it tell you about the distribution of data"
   ]
  },
  {
   "cell_type": "markdown",
   "id": "ba3e5b51-22b2-4093-864c-1dc9bfe4dd75",
   "metadata": {},
   "source": [
    "A box plot (or box-and-whisker plot) is a visual summary of data distribution based on five key values:\n",
    "\tMinimum ,First Quartile (Q1) ,Median (Q2) ,Third Quartile (Q3) ,Maximum\n",
    "box plot tells about -Center (Median),Spread (IQR),Skewness,Outliers,Range.\n"
   ]
  },
  {
   "cell_type": "markdown",
   "id": "f5105b1d-feee-4f9a-9313-37d4b3d501be",
   "metadata": {},
   "source": [
    "### Q5--Discuss the role of random sampling in making inferences about populations"
   ]
  },
  {
   "cell_type": "markdown",
   "id": "35127863-923d-4c80-aba5-12d793c98a47",
   "metadata": {},
   "source": [
    "Random sampling is a fundamental technique in statistics used to select a subset of data (a sample) from a larger group (a population) in such a way that every individual has an equal chance of being chosen. It plays a crucial role in making inferences about populations.\n"
   ]
  },
  {
   "cell_type": "markdown",
   "id": "79f2f2e8-ea42-47ba-b01f-fce5d4395b17",
   "metadata": {},
   "source": [
    "### Q6--Explain the concept of skewness and its types. How does skewness affect the interpretation of data"
   ]
  },
  {
   "cell_type": "markdown",
   "id": "d8f482a5-3271-4ee6-9735-eaf7b0b2e911",
   "metadata": {},
   "source": [
    "Skewness refers to the asymmetry in the distribution of data. It indicates whether the data is symmetrically distributed around the mean or whether it is skewed to one side. In a perfectly symmetrical distribution, the mean, median, and mode are equal, and skewness is zero.\n",
    "\n",
    "Type are - Positive Skew (Right-Skewed),Negative Skew (Left-Skewed),Symmetrical Distribution (No Skewness)\n",
    "\n",
    "Skewness affects data interpretation by influencing the central tendency, where the mean is pulled toward the tail, making it less representative than the median, and it can impact statistical analyses that assume normality, requiring transformations or alternative methods for accurate results."
   ]
  },
  {
   "cell_type": "markdown",
   "id": "89a9991c-4442-4fec-936e-97224ad8f4b4",
   "metadata": {},
   "source": [
    "### Q7--What is the interquartile range (IQR), and how is it used to detect outliers"
   ]
  },
  {
   "cell_type": "markdown",
   "id": "59634116-fbc0-40a5-92c7-c6a57e6093bd",
   "metadata": {},
   "source": [
    "The interquartile range (IQR) is the difference between the first quartile (Q1) and third quartile (Q3), representing the spread of the middle 50% of data. Outliers are detected by calculating the lower and upper fences:\n",
    "\n",
    "\t•\tLower Fence:  Q1 - 1.5 * {IQR} \n",
    "\t•\tUpper Fence:  Q3 + 1.5* {IQR} \n",
    "\n",
    "Any data points outside these fences are considered outliers."
   ]
  },
  {
   "cell_type": "markdown",
   "id": "39bcd8f5-a3db-40f7-a198-d476d801d703",
   "metadata": {},
   "source": [
    "### Q8--Discuss the conditions under which the binomial distribution is use"
   ]
  },
  {
   "cell_type": "markdown",
   "id": "30366d33-3b2b-421e-a02e-1548cae8b8c2",
   "metadata": {},
   "source": [
    "The binomial distribution is used under the following conditions:\n",
    "\t1.\tFixed Number of Trials (n) where The experiment must be repeated a fixed number of times.\n",
    "    \n",
    "\t2.\tTwo Possible Outcomes in which Each trial must have only two possible outcomes, often referred to as “success” and “failure.”\n",
    "\t3.\tConstant Probability of Success (p) -The probability of success (p) remains the same for each trial.\n",
    "\t4.\tIndependence of Trials where The outcome of one trial must not affect the outcome of another. Trials are independent.\n",
    "\n",
    "If these conditions are met, the binomial distribution can be used to model the probability of a certain number of successes in the fixed number of trials.\n"
   ]
  },
  {
   "cell_type": "markdown",
   "id": "646f2842-47fe-40be-9c8f-f99bf1148fd2",
   "metadata": {},
   "source": [
    "### Q9-- Explain the properties of the normal distribution and the empirical rule (68-95-99.7 rule)"
   ]
  },
  {
   "cell_type": "markdown",
   "id": "f8c8c76b-d1b5-4fb1-8a29-77e2a18d2eba",
   "metadata": {},
   "source": [
    "Properties of the Normal Distribution\n",
    "\n",
    "\t 1.\tSymmetry -The distribution is symmetric around the mean, meaning the left and right sides are mirror images.\n",
    "\t 2.\tBell-Shaped Curve It has a bell shape, with most data points clustering around the mean.\n",
    "\t3.\tMean, Median, and Mode -In a normal distribution, the mean, median, and mode are all equal and located at the center.\n",
    "\t4.\tDefined by Mean and Standard Deviation -The distribution is completely characterized by its mean (μ) and standard deviation (σ).\n",
    "\t5.\tAsymptotic -The tails of the distribution approach, but never touch, the horizontal axis.\n",
    "\n",
    "\n",
    "    Empirical Rule (68-95-99.7 Rule)\n",
    "\n",
    "\t•\t68% of data falls within 1 standard deviation of the mean.\n",
    "\t•\t95% of data falls within 2 standard deviations of the mean.\n",
    "\t•\t99.7% of data falls within 3 standard deviations of the mean.\n",
    "\n",
    "This rule helps estimate the spread of data in a normal distribution."
   ]
  },
  {
   "cell_type": "markdown",
   "id": "d2725d19-e95c-460c-85ed-7a9ec76c4247",
   "metadata": {},
   "source": [
    "### Q10--Provide a real-life example of a Poisson process and calculate the probability for a specific event"
   ]
  },
  {
   "cell_type": "markdown",
   "id": "8d24ca28-dc51-454b-9cbd-3bc347992c53",
   "metadata": {},
   "source": [
    "A Poisson process models the number of events occurring in a fixed interval at a constant rate. For example, if 3 customers arrive at a bank every 10 minutes, we can calculate the probability of exactly 4 customers arriving in the next 10 minutes.\n",
    "\n",
    "P(X = k) = (λ^k * e^(-λ)) / k!\n",
    "\n",
    "\t•\tP(X = k) is the probability of exactly k events,\n",
    "\t•\tλ is the average rate of events,\n",
    "\t•\tk is the number of events you’re interested in,\n",
    "\t•\te is Euler’s number (approximately 2.718).\n",
    "\n",
    "\n",
    "The probability of exactly 4 customers arriving is approximately 16.8%."
   ]
  },
  {
   "cell_type": "markdown",
   "id": "52459c74-e6cb-4f6f-9134-d1105afe396b",
   "metadata": {},
   "source": [
    "### Q11--Explain what a random variable is and differentiate between discrete and continuous random variables"
   ]
  },
  {
   "cell_type": "markdown",
   "id": "b26cb305-42fc-489d-876f-c43386f9bf82",
   "metadata": {},
   "source": [
    "A random variable is a numerical outcome of a random process or experiment. It assigns a value to each possible outcome in a sample space. Random variables can be classified into two types: discrete and continuous.\n",
    "\n",
    "A discrete random variable takes on specific, countable values (like the number of people in a room), while a continuous random variable can take any value within a given range, including decimals (like the height of a person)."
   ]
  },
  {
   "cell_type": "markdown",
   "id": "38cd732e-28c7-4780-91ef-e538e86de519",
   "metadata": {},
   "source": [
    "### Q12--Provide an example dataset, calculate both covariance and correlation, and interpret the results."
   ]
  },
  {
   "cell_type": "markdown",
   "id": "ca4db7ed-60e6-4afa-b22f-0bcabe9449a2",
   "metadata": {},
   "source": [
    "The covariance between hours studied and test scores is 20, indicating a positive relationship, where more hours of study lead to higher scores. The correlation is 1, showing a perfect positive linear relationship between the two variables, meaning as one increases, the other increases in a perfectly consistent manner."
   ]
  },
  {
   "cell_type": "code",
   "execution_count": 1,
   "id": "6fb823c2-ac99-4961-93ea-9c9f7ff9b391",
   "metadata": {},
   "outputs": [
    {
     "name": "stdout",
     "output_type": "stream",
     "text": [
      "Covariance: 25.0\n",
      "Correlation: 1.0\n"
     ]
    }
   ],
   "source": [
    "import numpy as np\n",
    "\n",
    "hours_studied = np.array([2, 3, 4, 5, 6])\n",
    "test_scores = np.array([50, 60, 70, 80, 90])\n",
    "\n",
    "cov_matrix = np.cov(hours_studied, test_scores)\n",
    "covariance = cov_matrix[0, 1]\n",
    "\n",
    "correlation = np.corrcoef(hours_studied, test_scores)[0, 1]\n",
    "\n",
    "print(f\"Covariance: {covariance}\")\n",
    "print(f\"Correlation: {correlation}\")"
   ]
  },
  {
   "cell_type": "code",
   "execution_count": null,
   "id": "231fd414-9458-47c8-86cd-0a61890607ae",
   "metadata": {},
   "outputs": [],
   "source": []
  }
 ],
 "metadata": {
  "kernelspec": {
   "display_name": "Python 3 (ipykernel)",
   "language": "python",
   "name": "python3"
  },
  "language_info": {
   "codemirror_mode": {
    "name": "ipython",
    "version": 3
   },
   "file_extension": ".py",
   "mimetype": "text/x-python",
   "name": "python",
   "nbconvert_exporter": "python",
   "pygments_lexer": "ipython3",
   "version": "3.12.1"
  }
 },
 "nbformat": 4,
 "nbformat_minor": 5
}
